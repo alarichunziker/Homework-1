{
 "cells": [
  {
   "cell_type": "markdown",
   "metadata": {},
   "source": [
    "<p class='notebook_header'><b>CS 309 - Robot Learning</b></p>\n",
    "<p class='notebook_header'>Homework 1</p>\n",
    "<hr class='separate' />"
   ]
  },
  {
   "cell_type": "markdown",
   "metadata": {},
   "source": [
    "<p class='section_header'><b>Part 1: Linear Algebra</b></p>"
   ]
  },
  {
   "cell_type": "markdown",
   "metadata": {},
   "source": [
    "Implement the following matrix/vector functions using NumPy operations.\n",
    "\n",
    "If the function's operation isn't possible for matrix or vector inputs, return None."
   ]
  },
  {
   "cell_type": "code",
   "execution_count": 3,
   "metadata": {},
   "outputs": [],
   "source": [
    "import numpy as np\n",
    "import matplotlib.pyplot as plt \n",
    "from sklearn import linear_model"
   ]
  },
  {
   "cell_type": "code",
   "execution_count": 4,
   "metadata": {},
   "outputs": [],
   "source": [
    "def add(a, b):\n",
    "    return np.add(a, b)\n",
    "\n",
    "def subtract(a, b):\n",
    "    return np.subtract(a,b)\n",
    "\n",
    "def multiply(a, b):\n",
    "    return np.dot(a,b)\n",
    "\n",
    "def divide(a, b):\n",
    "    return np.divide(a,b)\n",
    "\n",
    "def transpose(a):\n",
    "    return np.a.T\n",
    "\n",
    "def two_norm(a):\n",
    "    return np.linalg.norm(a)\n"
   ]
  },
  {
   "cell_type": "markdown",
   "metadata": {},
   "source": [
    "<p>Using your code from above, solve the following equations. If an operation isn't possible, put None or comment with \"Not Possible\".</p>"
   ]
  },
  {
   "cell_type": "markdown",
   "metadata": {},
   "source": [
    "$$\n",
    "u = \\begin{bmatrix} 2 \\\\ 3 \\\\ 9 \\end{bmatrix}, \\:\n",
    "v = \\begin{bmatrix} -2 \\\\ 1 \\\\ 8 \\end{bmatrix}\n",
    "$$  \n"
   ]
  },
  {
   "cell_type": "code",
   "execution_count": 5,
   "metadata": {},
   "outputs": [],
   "source": [
    "u = np.array([\n",
    "    [2],\n",
    "    [3],\n",
    "    [9]\n",
    "])\n",
    "\n",
    "v = u = np.array([\n",
    "    [-2],\n",
    "    [1],\n",
    "    [8]\n",
    "])"
   ]
  },
  {
   "cell_type": "markdown",
   "metadata": {},
   "source": [
    "$$ u + v = \\begin{bmatrix} ? \\end{bmatrix} $$  \n",
    "\n",
    "$$ u - v = \\begin{bmatrix} ? \\end{bmatrix} $$  \n",
    "\n",
    "$$ u * v = \\begin{bmatrix} ? \\end{bmatrix} $$  \n",
    "\n",
    "$$ u \\div v = \\begin{bmatrix} ? \\end{bmatrix} $$  \n"
   ]
  },
  {
   "cell_type": "code",
   "execution_count": 7,
   "metadata": {},
   "outputs": [],
   "source": [
    "# YOUR CODE HERE\n",
    "\n",
    "u_plus_v = add(u, v)\n",
    "\n",
    "u_minus_v = subtract(u, v)\n",
    "\n",
    "u_mult_v = multiply(u.T, v)\n",
    "\n",
    "u_div_v = divide(u, v)"
   ]
  },
  {
   "cell_type": "markdown",
   "metadata": {},
   "source": [
    "$$ u^{\\;T} * v = \\; ? $$  \n",
    "\n",
    "$$ u * v^{\\;T} = \\begin{bmatrix} ? \\end{bmatrix} $$  \n",
    "\n",
    "$$ u^{\\;T} * u = \\; ? $$  \n",
    "\n",
    "$$ \\left \\| u \\right \\|_{2}^{2} = ? $$  \n"
   ]
  },
  {
   "cell_type": "code",
   "execution_count": 9,
   "metadata": {},
   "outputs": [],
   "source": [
    "# YOUR CODE HERE\n",
    "\n",
    "u_transpose_v = multiply(u.T, v)\n",
    "\n",
    "u_v_tranpose = np.outer(u, v.T)\n",
    "\n",
    "u_tranpose_u = multiply(u.T, u) \n",
    "\n",
    "two_norm_u = two_norm(u)"
   ]
  },
  {
   "cell_type": "markdown",
   "metadata": {},
   "source": [
    "<hr class='light-separate' />"
   ]
  },
  {
   "cell_type": "markdown",
   "metadata": {},
   "source": [
    "$$\n",
    "A = \\begin{bmatrix} 1 & 6 & 5\\\\ 0 & -4 & -1\\\\ 7 & 2 & 3 \\end{bmatrix}, \\: \n",
    "B = \\begin{bmatrix} 3 & 1 & 1\\\\ 4 & -1 & 7\\\\ 7 & 0 & 0 \\end{bmatrix}\n",
    "$$  \n"
   ]
  },
  {
   "cell_type": "markdown",
   "metadata": {},
   "source": [
    "$$ A + B = \\begin{bmatrix} ? \\end{bmatrix} $$  \n",
    "\n",
    "$$ A - B = \\begin{bmatrix} ? \\end{bmatrix} $$  \n",
    "\n",
    "$$ A * B = \\begin{bmatrix} ? \\end{bmatrix} $$  \n",
    "\n",
    "$$ A \\div B = \\begin{bmatrix} ? \\end{bmatrix} $$  \n"
   ]
  },
  {
   "cell_type": "code",
   "execution_count": 10,
   "metadata": {},
   "outputs": [
    {
     "name": "stderr",
     "output_type": "stream",
     "text": [
      "C:\\Users\\alari\\miniconda3\\envs\\fri_rl\\lib\\site-packages\\ipykernel_launcher.py:11: RuntimeWarning: divide by zero encountered in true_divide\n",
      "  # This is added back by InteractiveShellApp.init_path()\n"
     ]
    }
   ],
   "source": [
    "# YOUR CODE HERE\n",
    "\n",
    "a = np.array([[1, 0, 7], [6, -4, 2], [5, -1, 3]])\n",
    "b = np.array([[3, 4, 7], [1, -1, 0], [1, 7, 0]])\n",
    "\n",
    "a_plus_b = add(a, b)\n",
    "\n",
    "a_minus_b = subtract(a, b)\n",
    "\n",
    "a_mult_b = multiply(a, b)\n",
    "\n",
    "a_div_b = divide(a, b)"
   ]
  },
  {
   "cell_type": "markdown",
   "metadata": {},
   "source": [
    "<hr class='light-separate' />"
   ]
  },
  {
   "cell_type": "markdown",
   "metadata": {},
   "source": [
    "$$\n",
    "C = \\begin{bmatrix} 5 & 1 \\\\ -1 & 7 \\\\ 3 & 0 \\end{bmatrix}\n",
    "$$  \n"
   ]
  },
  {
   "cell_type": "code",
   "execution_count": 12,
   "metadata": {},
   "outputs": [],
   "source": [
    "c = np.array([[5, 1],\n",
    "              [-1, 7],\n",
    "              [3, 0]])"
   ]
  },
  {
   "cell_type": "markdown",
   "metadata": {},
   "source": [
    "Right Pseudo Inverse of C:\n",
    "$$\n",
    "\\begin{bmatrix} ? \\end{bmatrix}\n",
    "$$  \n",
    "\n",
    "Left Pseudo Inverse of C:\n",
    "$$\n",
    "\\begin{bmatrix} ? \\end{bmatrix}\n",
    "$$  \n"
   ]
  },
  {
   "cell_type": "code",
   "execution_count": 15,
   "metadata": {},
   "outputs": [],
   "source": [
    "# YOUR CODE HERE\n",
    "right_pinv = multiply(c.T, np.linalg.inv(multiply(c, c.T)))\n",
    "\n",
    "left_pinv = np.linalg.pinv(c)"
   ]
  },
  {
   "cell_type": "markdown",
   "metadata": {},
   "source": [
    "<hr class='separate' />"
   ]
  },
  {
   "cell_type": "markdown",
   "metadata": {},
   "source": [
    "<p class='section_header'><b>Part 2: Regression</b></p>"
   ]
  },
  {
   "cell_type": "markdown",
   "metadata": {},
   "source": [
    "**Write** the equation for Ordinary Least Squares below. \n",
    "\n",
    "**(TODO: Write Here)** (x^T * x)^-1 * x^T * y = theta"
   ]
  },
  {
   "cell_type": "markdown",
   "metadata": {},
   "source": [
    "**Explain** Ordinary Least Squares in terms of what it optimizes.\n",
    "\n",
    "**(TODO: Write Here)** One uses OLS in order to optimize the best possible straight line given a set of data points. OLS minimizes the errors by penalizing the points that are too fair away from the mean data point. "
   ]
  },
  {
   "cell_type": "code",
   "execution_count": 17,
   "metadata": {
    "scrolled": true
   },
   "outputs": [],
   "source": [
    "# Don't change this cell!\n",
    "# Load in the data about the study on students\n",
    "train = np.loadtxt('train.csv', delimiter=',')\n",
    "x_0, x_1, x_2, y = train.T\n",
    "X_train = np.array([x_0, x_1, x_2]).T\n",
    "Y_train = np.expand_dims(y, 1)\n",
    "\n",
    "test = np.loadtxt('test.csv', delimiter=',')\n",
    "x_0, x_1, x_2, y = test.T\n",
    "X_test = np.array([x_0, x_1, x_2]).T\n",
    "Y_test = np.expand_dims(y, 1)"
   ]
  },
  {
   "cell_type": "markdown",
   "metadata": {},
   "source": [
    "There was an imaginary study done on 101 students at Crest University. The study surveyed students for the amount they have spent on electronics, books, pencils, and foods. "
   ]
  },
  {
   "cell_type": "markdown",
   "metadata": {},
   "source": [
    "Given that the **amount students spend on electronics ($Y$)** is linearly related to the **amount they spend on books ($ X_{0} $), pencils ($ X_{1}$)**, and **food ($ X_{2}$)**, \n",
    "**implement** the Ordinary Least Squares method to model this regression problem.\n",
    "\n",
    "The data is read in from the previous cell code. **X_train** has the input features, while **Y_train** has corresponding target outputs.\n",
    "\n",
    "After finding a solution, try to measure the error between your predictions and the ground truth. "
   ]
  },
  {
   "cell_type": "code",
   "execution_count": 18,
   "metadata": {},
   "outputs": [
    {
     "data": {
      "image/png": "[encoded data removed]",
      "text/plain": [
       "<Figure size 432x288 with 1 Axes>"
      ]
     },
     "metadata": {
      "needs_background": "light"
     },
     "output_type": "display_data"
    }
   ],
   "source": [
    "# TODO: Create code for OLS here. DO NOT use any other libraries in your first implementation.\n",
    "# TODO: Plot your regression line over the input points.\n",
    "\n",
    "def OLS(X, y):\n",
    "    return np.linalg.solve(np.dot(X.T, X), np.dot(X.T, y))\n",
    "\n",
    "# TODO: check against training data\n",
    "theta = OLS(X_train,Y_train)\n",
    "thetaTest = OLS(X_test, Y_test)\n",
    "\n",
    "# TODO: test your model on testing data\n",
    "def numpy_plot():\n",
    "    plt.plot(theta)\n",
    "    plt.plot(thetaTest)\n",
    "    plt.show()\n",
    "    \n",
    "numpy_plot()"
   ]
  },
  {
   "cell_type": "markdown",
   "metadata": {},
   "source": [
    "**Explain** what collinearity is.\n",
    "\n",
    "**(TODO: Write Here)** Collinearity is when a feature variable is highly correlated with another feature variable."
   ]
  },
  {
   "cell_type": "markdown",
   "metadata": {},
   "source": [
    "**Write** the equation for Ridge Regression below. \n",
    "\n",
    "**(TODO: Write Here)** (X^T * X + alpha * I)^-1 * X * y"
   ]
  },
  {
   "cell_type": "markdown",
   "metadata": {},
   "source": [
    "**Explain** what the purpose ridge regression and its advantages and disadvantages over OLS.\n",
    "\n",
    "**(TODO: Write Here)** The purpose of ridge regression is to analyze multiple regression data that have collinearity. An advantage ridge regression has over OLS is ridge regression gives a bias to important features so the line of best fit matches more closely to those data points, compared to OLS which treats all data points equally. A disadvantage of ridge regression over OLS is the trade-off between variance and bias."
   ]
  },
  {
   "cell_type": "markdown",
   "metadata": {},
   "source": [
    "**Implement** your regression model with ridge regression below."
   ]
  },
  {
   "cell_type": "code",
   "execution_count": 97,
   "metadata": {},
   "outputs": [
    {
     "data": {
      "image/png": "[encoded data removed]",
      "text/plain": [
       "<Figure size 432x288 with 1 Axes>"
      ]
     },
     "metadata": {
      "needs_background": "light"
     },
     "output_type": "display_data"
    }
   ],
   "source": [
    "# TODO: Create code for Ridge Regression here. DO NOT use any other libraries\n",
    "# TODO: Plot your regression line over the input points.\n",
    "\n",
    "def RR(X, y, ridge=0.001):\n",
    "    I = np.identity(3)\n",
    "    return np.dot(np.dot(np.linalg.inv(np.dot(X.T, X) + ridge * I), X.T), y)\n",
    "\n",
    "# TODO: check against training data\n",
    "theta = RR(X_train,Y_train)\n",
    "thetaTest = RR(X_test, Y_test)\n",
    "\n",
    "# TODO: test your model on testing data\n",
    "plt.plot(theta)\n",
    "plt.plot(thetaTest)\n",
    "plt.show()"
   ]
  },
  {
   "cell_type": "markdown",
   "metadata": {},
   "source": [
    "**Explain** the differences ridge regression created for theta compared to OLS, and why these differences even existed. Also try different values for the ridge parameters and describe how they effect your results.\n",
    "\n",
    "**(TODO: Write here)** The OLS model seems to have larger y values, while the ridge regression model seems to have smaller values. These differences exist because the OLS model overfits and tries to match all of the data points, while the ridge regression model gives a bias towards some data points so it doesn't have to fit all data points. The closer the ridge parameter gets to 0, the further apart the two lines become. As the ridge parameter increases, the two lines become increasingly closer together."
   ]
  },
  {
   "cell_type": "markdown",
   "metadata": {},
   "source": [
    "There are other regularizers other than ridge regression, such as LASSO. **Explain** the differences between LASSO and Ridge Regression and how it changes the solution mathematically.\n",
    "\n",
    "**(TODO: Write here)** In ridge regression the penalty function is the sum of squares of the coefficients, while the penalty function in lasso is the sum of the absolute values of the coefficients. It changes the solution mathematically because lasso tends to make coefficients close to 0 while ridge won't set the value of the coefficient to 0. "
   ]
  },
  {
   "cell_type": "code",
   "execution_count": 19,
   "metadata": {},
   "outputs": [
    {
     "name": "stdout",
     "output_type": "stream",
     "text": [
      "[ 2.99099792  2.01763613 -0.00368638]\n",
      "[2.99318387e+00 1.99720599e+00 2.22150120e-03]\n"
     ]
    }
   ],
   "source": [
    "# TODO: Create code for LASSO here\n",
    "# TODO: Plot your regression line over the input points. \n",
    "\n",
    "def LASSO(X, y, ridge=.001):\n",
    "    clf = linear_model.Lasso(alpha = ridge)\n",
    "    clf.fit(X, y)\n",
    "    return clf.coef_\n",
    "\n",
    "# TODO: check against training data\n",
    "theta = LASSO(X_train,Y_train)\n",
    "thetaTest = LASSO(X_test, Y_test)\n",
    "\n",
    "# TODO: check against testing data\n",
    "print(theta)\n",
    "print(thetaTest)"
   ]
  },
  {
   "cell_type": "markdown",
   "metadata": {},
   "source": [
    "**Explain** the effect elastic nets had on your values for theta compared to OLS. Also try different values for the ridge parameters and describe how they effect your results.\n",
    "\n",
    "**(TODO: Write here)** The average distance of each point from the line is larger when OLS is used. If the ridge number changed for the Elastic Nets, the y length of each data point did not change a lot from the line. The average y length decreased as the ridge value increased."
   ]
  },
  {
   "cell_type": "markdown",
   "metadata": {},
   "source": [
    "**Explain** the differences between LASSO, Ridge Regression and Elastic Nets and how it changes the solution mathematically.\n",
    "\n",
    "**(TODO: Write here)** Lasso and ridge regression both have the chance of underfitting or overfitting the line that is made for a gathering of information, as they are determined with a regularizer. With Elastic Nets, L1 and L2 regularization are consolidated, delivering a model that all the more appropriately fits the information."
   ]
  },
  {
   "cell_type": "code",
   "execution_count": 22,
   "metadata": {},
   "outputs": [
    {
     "name": "stdout",
     "output_type": "stream",
     "text": [
      "[24.79648533 41.67033897  5.17022768]\n",
      "[24.79648533 41.67033897  5.17022768]\n"
     ]
    }
   ],
   "source": [
    "# TODO: Create code for Elastic Nets here. You can use a library such as scipy\n",
    "# TODO: Plot your regression line over the input points.\n",
    "from sklearn.datasets import make_regression\n",
    "\n",
    "def EN(X,y):\n",
    "    X, y = make_regression(n_features = 3, random_state = 0)\n",
    "    rgr = linear_model.ElasticNet(random_state = 0)\n",
    "    rgr.fit(X, y)\n",
    "    return rgr.coef_\n",
    "\n",
    "# TODO: check against training data\n",
    "theta = EN(X_train,Y_train)\n",
    "thetaTest = EN(X_test, Y_test)\n",
    "\n",
    "# TODO: check against testing data\n",
    "print(theta)\n",
    "print(thetaTest)"
   ]
  },
  {
   "cell_type": "markdown",
   "metadata": {},
   "source": [
    "What is the purpose of a regularizer?\n",
    "\n",
    "**(TODO: Write here)** The purpose of a regularizer is to prevent overfitting. "
   ]
  },
  {
   "cell_type": "markdown",
   "metadata": {},
   "source": [
    "Give two examples where a regularizer would give more robust models.\n",
    "\n",
    "**(TODO: Write here)** A regularizer can used when trying to compare the quality and amount of healthcare access in a country to the longevity of the average citizen. A regularizer would leave out the outliers that don't seem to match this trend. Another example can be the average temperature of a region and how close the region is to the equator. A regularizer would leave out the cool places that are close to the equator because these are outlier data points. "
   ]
  },
  {
   "cell_type": "markdown",
   "metadata": {},
   "source": [
    "Explain with reference to the dataset why a regularizer achieved better performance than OLS.\n",
    "\n",
    "**(TODO: Write here)** While adding a regularizer, the room for mistakes that is available when utilizing OLS is diminished, making a superior portrayal of the connection between the information focuses."
   ]
  },
  {
   "cell_type": "markdown",
   "metadata": {},
   "source": [
    "<hr class='light-separate' />"
   ]
  },
  {
   "cell_type": "markdown",
   "metadata": {},
   "source": [
    "Implement feature transformation to fit a line to the curve generated from the .csv file."
   ]
  },
  {
   "cell_type": "code",
   "execution_count": 24,
   "metadata": {},
   "outputs": [],
   "source": [
    "X = np.genfromtxt('feature_transform.csv', delimiter=',')\n",
    "y = X[:,2].reshape(500, 1)\n",
    "X = X[:,:2]"
   ]
  },
  {
   "cell_type": "code",
   "execution_count": 27,
   "metadata": {
    "scrolled": true
   },
   "outputs": [
    {
     "data": {
      "image/png": "[encoded data removed]",
      "text/plain": [
       "<Figure size 432x288 with 1 Axes>"
      ]
     },
     "metadata": {
      "needs_background": "light"
     },
     "output_type": "display_data"
    }
   ],
   "source": [
    "# TODO: Write the lambda function phi which will transform X\n",
    "# TODO: Plot the transformation and the resulting line after transforming\n",
    "\n",
    "def phi(x, degree):\n",
    "    c = []\n",
    "    m = len(x)\n",
    "    for i in range(degree + 1):\n",
    "        if (i == 0):\n",
    "            c.append(np.ones(m))\n",
    "        else:\n",
    "            c.append(x ** i)\n",
    "    X = np.matrix(c).T\n",
    "    return X\n",
    "\n",
    "X_new = phi(X[:,0], 3)\n",
    "theta = OLS(X_new, y)\n",
    "coef = np.array(theta).ravel()\n",
    "phi_plot = np.linspace(0, 1, 500)\n",
    "\n",
    "def poly_coefficients(x, coefs):\n",
    "    k = len(coefs)\n",
    "    y = 0\n",
    "    for i in range(k):\n",
    "        y += coefs[i] * (x**i)\n",
    "    return y\n",
    "\n",
    "y_new = poly_coefficients(phi_plot, coef)\n",
    "\n",
    "plt.scatter(phi_plot, y, s = 5, color = (0.0,0.5,0.0))\n",
    "plt.plot(phi_plot, y_new, color = (0.75,0.0,0.0))\n",
    "\n",
    "plt.xlabel('X')\n",
    "plt.ylabel('Y')\n",
    "plt.show()"
   ]
  },
  {
   "cell_type": "markdown",
   "metadata": {},
   "source": [
    "<hr class='light-separate' />"
   ]
  },
  {
   "cell_type": "markdown",
   "metadata": {},
   "source": [
    "Recall what you learned about polynomial regression and explain what is happening to the model as you increase the degrees. Run the cell below and use the slider to help you.\n",
    "\n",
    "**(TODO: Write here)** At the point when the level of the line expands from one to ten, the test and train errors have a pattern of diminishing. This bodes well in light of the fact that the line isn't straight. Nonetheless, as the degree increments past ten, the mistakes altogether increment because of the expanded significance of remote information while plotting the line."
   ]
  },
  {
   "cell_type": "code",
   "execution_count": 28,
   "metadata": {},
   "outputs": [
    {
     "data": {
      "application/vnd.jupyter.widget-view+json": {
       "model_id": "0e8baa349cb540f59fa8002a48e6fe92",
       "version_major": 2,
       "version_minor": 0
      },
      "text/plain": [
       "interactive(children=(IntSlider(value=1, description='degree', max=20, min=1), Output()), _dom_classes=('widge…"
      ]
     },
     "metadata": {},
     "output_type": "display_data"
    },
    {
     "data": {
      "text/plain": [
       "<function __main__.f(degree)>"
      ]
     },
     "execution_count": 28,
     "metadata": {},
     "output_type": "execute_result"
    }
   ],
   "source": [
    "# DO NOT ALTER\n",
    "\n",
    "import pandas as pd\n",
    "import ipywidgets as widgets\n",
    "from ipywidgets import interact\n",
    "from sklearn.model_selection import train_test_split\n",
    "from sklearn import datasets\n",
    "from sklearn.metrics import mean_squared_error\n",
    "from sklearn.preprocessing import PolynomialFeatures\n",
    "from sklearn.linear_model import LinearRegression\n",
    "from sklearn.pipeline import make_pipeline\n",
    "\n",
    "boston = datasets.load_boston()\n",
    "data = pd.DataFrame(boston.data,columns=boston.feature_names)\n",
    "data = pd.concat([data,pd.Series(boston.target,name='MEDV')],axis=1)\n",
    "\n",
    "X = data[['LSTAT']].values\n",
    "y = data['MEDV']\n",
    "\n",
    "x_train, x_test, y_train, y_test = train_test_split(X,y,test_size=0.3, random_state=42, shuffle=True)\n",
    "\n",
    "temp = pd.DataFrame({'x':x_train.reshape(1, 354)[0], 'y':y_train})\n",
    "temp = temp.sort_values('x')\n",
    "x_train = temp['x'].values.reshape(354,1)\n",
    "y_train = temp['y'].values\n",
    "\n",
    "temp = pd.DataFrame({'x':x_test.reshape(1, 152)[0], 'y':y_test})\n",
    "temp = temp.sort_values('x')\n",
    "x_test = temp['x'].values.reshape(152,1)\n",
    "y_test = temp['y'].values\n",
    "\n",
    "def f(degree):\n",
    "    model = make_pipeline(PolynomialFeatures(degree), LinearRegression())\n",
    "    model.fit(x_train,y_train)\n",
    "    y_plot = model.predict(x_test)\n",
    "    \n",
    "    plt.scatter(x_train, y_train, s=10, color='red', alpha=.3)\n",
    "    plt.scatter(x_test, y_test, s=10)\n",
    "\n",
    "    test_sr = (y_test - y_plot)**2\n",
    "    test_ssr = test_sr.sum()\n",
    "    test_asr = test_ssr/len(test_sr)\n",
    "    \n",
    "    y_plot_train = model.predict(x_train)\n",
    "    train_sr = (y_train - y_plot_train)**2\n",
    "    train_ssr = train_sr.sum()\n",
    "    train_asr = train_ssr/len(train_sr)\n",
    "    \n",
    "    plt.plot(x_test, y_plot, label=\"degree %d\" % degree + '; Test Error: %.2f' % test_asr + '; Train Error: %.2f' % train_asr, color='green')\n",
    "    plt.legend(loc='upper right')\n",
    "    plt.show()\n",
    "    \n",
    "interact(f, degree = widgets.IntSlider(min=1, max=20, step=1, value=1))"
   ]
  },
  {
   "cell_type": "code",
   "execution_count": null,
   "metadata": {},
   "outputs": [],
   "source": []
  }
 ],
 "metadata": {
  "kernelspec": {
   "display_name": "Python 3",
   "language": "python",
   "name": "python3"
  },
  "language_info": {
   "codemirror_mode": {
    "name": "ipython",
    "version": 3
   },
   "file_extension": ".py",
   "mimetype": "text/x-python",
   "name": "python",
   "nbconvert_exporter": "python",
   "pygments_lexer": "ipython3",
   "version": "3.7.9"
  }
 },
 "nbformat": 4,
 "nbformat_minor": 4
}
